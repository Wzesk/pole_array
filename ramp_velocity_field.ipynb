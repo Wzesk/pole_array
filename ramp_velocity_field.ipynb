{
 "cells": [
  {
   "cell_type": "markdown",
   "metadata": {},
   "source": [
    "## installs and setup"
   ]
  },
  {
   "cell_type": "code",
   "execution_count": 1,
   "metadata": {},
   "outputs": [],
   "source": [
    "# Import the packages\n",
    "import pandas as pd\n",
    "import matplotlib.pyplot as plt\n",
    "import io\n",
    "import numpy as np"
   ]
  },
  {
   "cell_type": "code",
   "execution_count": 2,
   "metadata": {},
   "outputs": [],
   "source": [
    "#styling\n",
    "plt.style.use('dark_background')\n",
    "#resize plot to wide form\n",
    "plt.rcParams['figure.figsize'] = [20, 4]\n",
    "#shrink plot labels\n",
    "plt.rcParams.update({'font.size': 12})\n",
    "#remove all boundaries\n",
    "plt.rcParams['axes.spines.left'] = False\n",
    "plt.rcParams['axes.spines.bottom'] = False\n",
    "plt.rcParams['axes.spines.top'] = False\n",
    "plt.rcParams['axes.spines.right'] = False"
   ]
  },
  {
   "cell_type": "code",
   "execution_count": 3,
   "metadata": {},
   "outputs": [],
   "source": [
    "#read in a csv file and returns the smoothed velocity and x values\n",
    "def readin(filename):\n",
    "    data = pd.read_csv(filename, delimiter = ',').dropna()\n",
    "    return data"
   ]
  },
  {
   "cell_type": "code",
   "execution_count": 11,
   "metadata": {},
   "outputs": [
    {
     "name": "stdout",
     "output_type": "stream",
     "text": [
      "Index(['Points:0', 'Points:1', 'Points:2', 'Velocity'], dtype='object')\n",
      "(241608, 4)\n"
     ]
    },
    {
     "data": {
      "text/plain": [
       "(20285, 3)"
      ]
     },
     "execution_count": 11,
     "metadata": {},
     "output_type": "execute_result"
    }
   ],
   "source": [
    "v_field = readin(\"velocity_field.csv\")\n",
    "\n",
    "#print the column names\n",
    "v_field.columns\n",
    "\n",
    "#drop the first three columns from v_field\n",
    "v_field = v_field.drop(v_field.columns[[0,1,2]], axis = 1)\n",
    "\n",
    "#print the column names\n",
    "print(v_field.columns)\n",
    "print(v_field.shape)\n",
    "#average the velocity field for similar x and y values\n",
    "v_field_ave = v_field.groupby(['Points:0','Points:1']).mean().reset_index()\n",
    "\n",
    "#drop the Points:2 column\n",
    "v_field_ave = v_field_ave.drop(v_field_ave.columns[[2]], axis = 1)\n",
    "\n",
    "v_field_ave.shape"
   ]
  },
  {
   "cell_type": "code",
   "execution_count": 15,
   "metadata": {},
   "outputs": [],
   "source": [
    "#save the averaged velocity field to a csv file\n",
    "v_field_ave.to_csv('velocity_field_ave.csv', index = False)\n"
   ]
  }
 ],
 "metadata": {
  "kernelspec": {
   "display_name": "flow",
   "language": "python",
   "name": "python3"
  },
  "language_info": {
   "codemirror_mode": {
    "name": "ipython",
    "version": 3
   },
   "file_extension": ".py",
   "mimetype": "text/x-python",
   "name": "python",
   "nbconvert_exporter": "python",
   "pygments_lexer": "ipython3",
   "version": "3.11.4"
  },
  "orig_nbformat": 4
 },
 "nbformat": 4,
 "nbformat_minor": 2
}
